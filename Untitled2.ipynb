{
 "cells": [
  {
   "cell_type": "code",
   "execution_count": 4,
   "id": "0be73373",
   "metadata": {},
   "outputs": [],
   "source": [
    "import json\n",
    "import numpy as np\n",
    "import open3d as o3d\n",
    "import matplotlib.pyplot as plt\n",
    "from PIL import Image\n",
    "from scipy.signal import correlate2d\n",
    "from scipy.ndimage import shift\n",
    "\n",
    "from lib.misc.post_proc import np_coor2xy, np_coorx2u, np_coory2v\n",
    "from eval_layout import layout_2_depth\n",
    "\n",
    "\n",
    "if __name__ == '__main__':\n",
    "\n",
    "    import argparse\n",
    "    parser = argparse.ArgumentParser(formatter_class=argparse.ArgumentDefaultsHelpFormatter)\n",
    "    parser.add_argument('--img', required=True,\n",
    "                        help='Image texture in equirectangular format')\n",
    "    parser.add_argument('--layout', required=True,\n",
    "                        help='Txt or json file containing layout corners (cor_id)')\n",
    "    parser.add_argument('--out')\n",
    "    parser.add_argument('--no_vis', action='store_true')\n",
    "    parser.add_argument('--show_ceiling', action='store_true',\n",
    "                        help='Rendering ceiling (skip by default)')\n",
    "    parser.add_argument('--ignore_floor', action='store_true',\n",
    "                        help='Skip rendering floor')\n",
    "    parser.add_argument('--ignore_wall', action='store_true',\n",
    "                        help='Skip rendering wall')\n",
    "    parser.add_argument('--ignore_wireframe', action='store_true',\n",
    "                        help='Skip rendering wireframe')\n",
    "    args = parser.parse_args([\"--img\", \"./assets/pano_asmasuxybohhcj.png\",\n",
    "                              \"--layout\", \"./assets/pano_asmasuxybohhcj.layout.txt\", \"--out\", \"./asset\", \"--ignore_floor\"])\n",
    "\n",
    "\n",
    "    if not args.out and args.no_vis:\n",
    "        print('You may want to export (via --out) or visualize (without --vis)')\n",
    "        import sys; sys.exit()\n",
    "\n",
    "    # Reading source (texture img, cor_id txt)\n",
    "    equirect_texture = np.array(Image.open(args.img))\n",
    "    H, W = equirect_texture.shape[:2]\n",
    "    if args.layout.endswith('json'):\n",
    "        with open(args.layout) as f:\n",
    "            inferenced_result = json.load(f)\n",
    "        cor_id = np.array(inferenced_result['uv'], np.float32)\n",
    "        cor_id[:, 0] *= W\n",
    "        cor_id[:, 1] *= H\n",
    "    else:\n",
    "        cor_id = np.loadtxt(args.layout).astype(np.float32)\n",
    "\n",
    "#     cor_id = cor_id[0:4]\n",
    "#     cor_id = np.array(cor_id, dtype='int64')\n",
    "\n",
    "\n",
    "    # Convert corners to layout\n",
    "    depth, floor_mask, ceil_mask, wall_mask = layout_2_depth(cor_id, H, W, return_mask=True)\n",
    "    coorx, coory = np.meshgrid(np.arange(W), np.arange(H))\n",
    "    us = np_coorx2u(coorx, W)\n",
    "    vs = np_coory2v(coory, H)\n",
    "    zs = depth * np.sin(vs)\n",
    "    cs = depth * np.cos(vs)\n",
    "    xs = cs * np.sin(us)\n",
    "    ys = -cs * np.cos(us)\n",
    "\n",
    "    # Aggregate mask\n",
    "    mask = np.ones_like(floor_mask)\n",
    "    if args.ignore_floor:\n",
    "        mask &= ~floor_mask\n",
    "    if not args.show_ceiling:\n",
    "        mask &= ~ceil_mask\n",
    "    if args.ignore_wall:\n",
    "        mask &= ~wall_mask"
   ]
  },
  {
   "cell_type": "code",
   "execution_count": 5,
   "id": "8d0c3266",
   "metadata": {},
   "outputs": [
    {
     "data": {
      "text/plain": [
       "<matplotlib.image.AxesImage at 0x1d73c9973d0>"
      ]
     },
     "execution_count": 5,
     "metadata": {},
     "output_type": "execute_result"
    },
    {
     "data": {
      "image/png": "[encoded data removed]",
      "text/plain": [
       "<Figure size 640x480 with 1 Axes>"
      ]
     },
     "metadata": {},
     "output_type": "display_data"
    }
   ],
   "source": [
    "import cv2\n",
    "wall_mask_3 = wall_mask.copy()\n",
    "cor_id = cor_id.astype(\"int64\")\n",
    "cor_id_x = np.sort(cor_id[:,0])\n",
    "\n",
    "wall_mask_3[:, :cor_id_x[5]] = False # 181 까지 False\n",
    "wall_mask_3[:, cor_id_x[7]:] = False # 354 부터 False\n",
    "equirect_texture_3 = equirect_texture.copy()\n",
    "equirect_texture_3[~wall_mask_3] = [0,0,0]\n",
    "cv2.circle(equirect_texture_3, cor_id[4], 10, (0, 0, 255), -1)\n",
    "cv2.circle(equirect_texture_3, cor_id[5], 10, (0, 255, 0), -1)\n",
    "cv2.circle(equirect_texture_3, cor_id[6], 10, (0, 255, 0), -1)\n",
    "cv2.circle(equirect_texture_3, cor_id[7], 10, (255, 0, 0), -1)\n",
    "\n",
    "plt.imshow(equirect_texture_3)"
   ]
  },
  {
   "cell_type": "code",
   "execution_count": 7,
   "id": "ead1fd67",
   "metadata": {},
   "outputs": [],
   "source": [
    "xyzrgb = np.concatenate([\n",
    "    xs[...,None], ys[...,None], zs[...,None],\n",
    "    equirect_texture], -1)\n",
    "xyzrgb = np.concatenate([xyzrgb, xyzrgb[:,[0]]], 1)\n",
    "mask = np.concatenate([wall_mask_3, wall_mask_3[:,[0]]], 1)\n",
    "lo_tri_template = np.array([\n",
    "    [0, 0, 0],\n",
    "    [0, 1, 0],\n",
    "    [0, 1, 1]])\n",
    "up_tri_template = np.array([\n",
    "    [0, 0, 0],\n",
    "    [0, 1, 1],\n",
    "    [0, 0, 1]])\n",
    "ma_tri_template = np.array([\n",
    "    [0, 0, 0],\n",
    "    [0, 1, 1],\n",
    "    [0, 1, 0]])\n",
    "lo_mask = (correlate2d(mask, lo_tri_template, mode='same') == 3)\n",
    "up_mask = (correlate2d(mask, up_tri_template, mode='same') == 3)\n",
    "ma_mask = (correlate2d(mask, ma_tri_template, mode='same') == 3) & (~lo_mask) & (~up_mask)\n",
    "ref_mask: int = (\n",
    "    lo_mask | (correlate2d(lo_mask, np.flip(lo_tri_template, (0,1)), mode='same') > 0) |\\\n",
    "    up_mask | (correlate2d(up_mask, np.flip(up_tri_template, (0,1)), mode='same') > 0) |\\\n",
    "    ma_mask | (correlate2d(ma_mask, np.flip(ma_tri_template, (0,1)), mode='same') > 0)\n",
    ")\n",
    "points = xyzrgb[ref_mask]\n",
    "\n",
    "ref_id = np.full(ref_mask.shape, -1, np.int32)\n",
    "ref_id[ref_mask] = np.arange(ref_mask.sum())\n",
    "faces_lo_tri = np.stack([\n",
    "    ref_id[lo_mask],\n",
    "    ref_id[shift(lo_mask, [1, 0], cval=False, order=0)],\n",
    "    ref_id[shift(lo_mask, [1, 1], cval=False, order=0)],\n",
    "], 1)\n",
    "faces_up_tri = np.stack([\n",
    "    ref_id[up_mask],\n",
    "    ref_id[shift(up_mask, [1, 1], cval=False, order=0)],\n",
    "    ref_id[shift(up_mask, [0, 1], cval=False, order=0)],\n",
    "], 1)\n",
    "faces_ma_tri = np.stack([\n",
    "    ref_id[ma_mask],\n",
    "    ref_id[shift(ma_mask, [1, 0], cval=False, order=0)],\n",
    "    ref_id[shift(ma_mask, [0, 1], cval=False, order=0)],\n",
    "], 1)\n",
    "faces = np.concatenate([faces_lo_tri, faces_up_tri, faces_ma_tri])\n",
    "\n",
    "# Dump results ply\n",
    "if args.out:\n",
    "    ply_header = '\\n'.join([\n",
    "        'ply',\n",
    "        'format ascii 1.0',\n",
    "        f'element vertex {len(points):d}',\n",
    "        'property float x',\n",
    "        'property float y',\n",
    "        'property float z',\n",
    "        'property uchar red',\n",
    "        'property uchar green',\n",
    "        'property uchar blue',\n",
    "        f'element face {len(faces):d}',\n",
    "        'property list uchar int vertex_indices',\n",
    "        'end_header',\n",
    "    ])\n",
    "    with open(args.out, 'w') as f:\n",
    "        f.write(ply_header)\n",
    "        f.write('\\n')\n",
    "        for x, y, z, r, g, b in points:\n",
    "            f.write(f'{x:.2f} {y:.2f} {z:.2f} {r:.0f} {g:.0f} {b:.0f}\\n')\n",
    "        for i, j, k in faces:\n",
    "            f.write(f'3 {i:d} {j:d} {k:d}\\n')\n",
    "\n",
    "if not args.no_vis:\n",
    "    mesh = o3d.geometry.TriangleMesh()\n",
    "    mesh.vertices = o3d.utility.Vector3dVector(points[:, :3])\n",
    "    mesh.vertex_colors = o3d.utility.Vector3dVector(points[:, 3:] / 255.)\n",
    "    mesh.triangles = o3d.utility.Vector3iVector(faces)\n",
    "    draw_geometries = [mesh]\n",
    "\n",
    "    # Show wireframe\n",
    "    if not args.ignore_wireframe:\n",
    "        # Convert cor_id to 3d xyz\n",
    "        N = len(cor_id) // 2\n",
    "        floor_z = -1.6\n",
    "        floor_xy = np_coor2xy(cor_id[1::2], floor_z, W, H, floorW=1, floorH=1)\n",
    "        c = np.sqrt((floor_xy**2).sum(1))\n",
    "        v = np_coory2v(cor_id[0::2, 1], H)\n",
    "        ceil_z = (c * np.tan(v)).mean()\n",
    "\n",
    "        # Prepare wireframe in open3d\n",
    "        assert N == len(floor_xy)\n",
    "        wf_points = [[x, y, floor_z] for x, y in floor_xy] +\\\n",
    "                    [[x, y, ceil_z] for x, y in floor_xy]\n",
    "        wf_lines = [[i, (i+1)%N] for i in range(N)] +\\\n",
    "                   [[i+N, (i+1)%N+N] for i in range(N)] +\\\n",
    "                   [[i, i+N] for i in range(N)]\n",
    "        wf_colors = [[1, 0, 0] for i in range(len(wf_lines))]\n",
    "        wf_line_set = o3d.geometry.LineSet()\n",
    "        wf_line_set.points = o3d.utility.Vector3dVector(wf_points)\n",
    "        wf_line_set.lines = o3d.utility.Vector2iVector(wf_lines)\n",
    "        wf_line_set.colors = o3d.utility.Vector3dVector(wf_colors)\n",
    "        draw_geometries.append(wf_line_set)\n",
    "\n",
    "        o3d.visualization.draw_geometries(draw_geometries, mesh_show_back_face=True)\n"
   ]
  },
  {
   "cell_type": "code",
   "execution_count": 8,
   "id": "eb66f520",
   "metadata": {},
   "outputs": [
    {
     "data": {
      "text/plain": [
       "array([354, 319], dtype=int64)"
      ]
     },
     "execution_count": 8,
     "metadata": {},
     "output_type": "execute_result"
    }
   ],
   "source": [
    "cor_id[7]"
   ]
  },
  {
   "cell_type": "code",
   "execution_count": 9,
   "id": "c4e10249",
   "metadata": {},
   "outputs": [
    {
     "data": {
      "text/plain": [
       "array([[181, 170],\n",
       "       [181, 324],\n",
       "       [354, 176],\n",
       "       [354, 319]], dtype=int64)"
      ]
     },
     "execution_count": 9,
     "metadata": {},
     "output_type": "execute_result"
    }
   ],
   "source": [
    "cor_id[4:8]"
   ]
  },
  {
   "cell_type": "code",
   "execution_count": 10,
   "id": "2b74fd3d",
   "metadata": {},
   "outputs": [
    {
     "data": {
      "text/plain": [
       "array([[ -3.17785669,   0.36229051,   2.03916505, 185.        ,\n",
       "        134.        , 104.        ],\n",
       "       [ -3.17786215,   0.34255214,   2.03778145, 185.        ,\n",
       "        134.        , 104.        ],\n",
       "       [ -3.17786772,   0.32283981,   2.03647642, 186.        ,\n",
       "        134.        , 104.        ],\n",
       "       ...,\n",
       "       [ -3.17805366,  -0.34257278,  -1.59669228, 201.        ,\n",
       "        133.        ,  75.        ],\n",
       "       [ -3.17805912,  -0.36231358,  -1.59778189, 204.        ,\n",
       "        142.        ,  89.        ],\n",
       "       [ -3.17806471,  -0.38208211,  -1.59893328, 193.        ,\n",
       "        131.        ,  88.        ]])"
      ]
     },
     "execution_count": 10,
     "metadata": {},
     "output_type": "execute_result"
    }
   ],
   "source": [
    "points"
   ]
  },
  {
   "cell_type": "code",
   "execution_count": 13,
   "id": "545e3c5b",
   "metadata": {},
   "outputs": [
    {
     "data": {
      "text/plain": [
       "[[1.5139400023884901, -2.2212392914781076, -1.6],\n",
       " [1.5065432283454445, 2.7174389879822782, -1.6],\n",
       " [-1.5464285038210488, 2.7494628130942758, 2.063582841533982],\n",
       " [-1.5408113004708996, 1.569438489364913, 2.063582841533982]]"
      ]
     },
     "execution_count": 13,
     "metadata": {},
     "output_type": "execute_result"
    }
   ],
   "source": [
    "wf_points_example = wf_points[4:8]\n",
    "wf_points_example"
   ]
  },
  {
   "cell_type": "code",
   "execution_count": 16,
   "id": "fa35d505",
   "metadata": {},
   "outputs": [],
   "source": [
    "def plane_normal_vector(points):\n",
    "    point1 = np.array(points[0])  # 실제 좌표로 교체해야 합니다.\n",
    "    point2 = np.array(points[1])  # 실제 좌표로 교체해야 합니다.\n",
    "    point3 = np.array(points[2])\n",
    "    # 두 벡터를 구합니다.\n",
    "    vector1 = point2 - point1\n",
    "    vector2 = point3 - point1\n",
    "\n",
    "    # 두 벡터의 외적을 구하여 법선 벡터를 계산합니다.\n",
    "    normal_vector = np.cross(vector1, vector2)\n",
    "\n",
    "    # 법선 벡터를 출력합니다.\n",
    "    return normal_vector"
   ]
  },
  {
   "cell_type": "code",
   "execution_count": 17,
   "id": "37b87bef",
   "metadata": {},
   "outputs": [
    {
     "data": {
      "text/plain": [
       "array([18.093257  ,  0.02709869, 15.07740831])"
      ]
     },
     "execution_count": 17,
     "metadata": {},
     "output_type": "execute_result"
    }
   ],
   "source": [
    "plane_normal_vector(wf_points_example)"
   ]
  },
  {
   "cell_type": "code",
   "execution_count": 19,
   "id": "990e59b1",
   "metadata": {},
   "outputs": [
    {
     "data": {
      "text/plain": [
       "28044"
      ]
     },
     "execution_count": 19,
     "metadata": {},
     "output_type": "execute_result"
    }
   ],
   "source": [
    "len(points)"
   ]
  },
  {
   "cell_type": "code",
   "execution_count": 24,
   "id": "d862ab5c",
   "metadata": {},
   "outputs": [],
   "source": [
    "import numpy as np\n",
    "import cv2\n",
    "\n",
    "# 평면을 정의합니다. (점과 법선 벡터)\n",
    "plane_point = wf_points_example[0]  # 실제 좌표로 교체해야 합니다.\n",
    "plane_normal = plane_normal_vector(wf_points_example)\n",
    "\n",
    "# 법선 벡터를 정규화합니다.\n",
    "plane_normal = plane_normal / np.linalg.norm(plane_normal)\n",
    "\n",
    "# 3D 점 클라우드 데이터를 정의합니다.\n",
    "# 각 점은 (x, y, z, r, g, b) 형태의 6차원 벡터입니다.\n",
    "\n",
    "\n",
    "# 각 점을 평면에 투영하고, 투영된 점들을 2D 좌표계에 매핑합니다.\n",
    "projected_points = []\n",
    "for point in points:\n",
    "    d = np.dot(plane_normal, plane_point - point[:3])\n",
    "    point_on_plane = point[:3] + d * plane_normal\n",
    "    projected_points.append(list(point_on_plane) + list(point[3:]))\n",
    "projected_points = np.array(projected_points)\n",
    "\n",
    "# 2D 좌표계에 매핑하기 위해 x, y 좌표를 정규화합니다.\n",
    "projected_points[:, :2] -= projected_points[:, :2].min(axis=0)\n",
    "projected_points[:, :2] /= projected_points[:, :2].max(axis=0)\n",
    "\n",
    "# 투영된 점들의 RGB 값을 이용하여 이미지를 생성합니다.\n",
    "# 투영된 점들의 RGB 값을 이용하여 이미지를 생성합니다.\n",
    "img_height, img_width = 100, 280\n",
    "img = np.zeros((img_height, img_width, 3), dtype=np.uint8)\n",
    "for x, y, _, r, g, b in projected_points:\n",
    "    x, y = int(x * (img_width-1)), int(y * (img_height-1))  # -1을 추가했습니다.\n",
    "    img[y, x] = [b, g, r]  # OpenCV uses BGR color order\n",
    "\n",
    "# 이미지를 보여줍니다.\n",
    "cv2.imshow('Image', img)\n",
    "cv2.waitKey(0)\n",
    "cv2.destroyAllWindows()\n"
   ]
  },
  {
   "cell_type": "code",
   "execution_count": null,
   "id": "797aca55",
   "metadata": {},
   "outputs": [],
   "source": []
  }
 ],
 "metadata": {
  "kernelspec": {
   "display_name": "Python 3 (ipykernel)",
   "language": "python",
   "name": "python3"
  },
  "language_info": {
   "codemirror_mode": {
    "name": "ipython",
    "version": 3
   },
   "file_extension": ".py",
   "mimetype": "text/x-python",
   "name": "python",
   "nbconvert_exporter": "python",
   "pygments_lexer": "ipython3",
   "version": "3.9.16"
  }
 },
 "nbformat": 4,
 "nbformat_minor": 5
}
